{
 "cells": [
  {
   "cell_type": "markdown",
   "id": "e82c3c97",
   "metadata": {},
   "source": [
    "## EDUNET FOUNDATION-Class Exrercise Notebook"
   ]
  },
  {
   "cell_type": "markdown",
   "id": "b1dd3786",
   "metadata": {},
   "source": [
    "### LAB 25 - Developing a full-fledged project using different ML algorithms and python packages from scratch"
   ]
  },
  {
   "cell_type": "markdown",
   "id": "e22a0268",
   "metadata": {},
   "source": [
    "<center><div style=\"background-color:#faa6ce; color:#19180F; font-size:27px; font-family:cursive; padding:25px; border: 2px solid #19180F;\"> \n",
    "Case study on predicting Health Insurance Premiums\n",
    "</div></center>"
   ]
  },
  {
   "cell_type": "markdown",
   "id": "9497c583",
   "metadata": {},
   "source": [
    "<div style=\"background-color:#faa6ce; color:#19180F; font-size:20px; font-family:cursive; padding:10px; border: 2px solid #19180F;\"> \n",
    "About Dataset\n",
    "</div>\n",
    "\n",
    "---\n",
    "\n",
    "The `insurance.csv` dataset contains 1338 observations (rows) and 7 features (columns). The dataset contains 4 numerical features (age, bmi, children and expenses) and 3 nominal features (sex, smoker and region) that were converted into factors with numerical value desginated for each level.\n",
    "\n",
    "The purposes of this exercise to look into different features to observe their relationship, and plot a multiple linear regression based on several features of individual such as age, physical/family condition and location against their existing medical expense to be used for predicting future medical expenses of individuals that help medical insurance to make decision on charging the premium.\n",
    "\n",
    "- **Find dataset : https://www.kaggle.com/datasets/noordeen/insurance-premium-prediction**\n",
    "\n",
    "---"
   ]
  },
  {
   "cell_type": "markdown",
   "id": "b3f38344",
   "metadata": {},
   "source": [
    "\n",
    "<div style=\"background-color:#faa6ce; color:#19180F; font-size:20px; font-family:cursive; padding:10px; border: 2px solid #19180F;\"> \n",
    "Importing modules for EDA\n",
    "</div>"
   ]
  },
  {
   "cell_type": "code",
   "execution_count": 1,
   "id": "1cec5ee7",
   "metadata": {},
   "outputs": [],
   "source": [
    "import pandas  as pd #Data manipulation\n",
    "import numpy as np #Data manipulation\n",
    "import matplotlib.pyplot as plt # Visualization\n",
    "import seaborn as sns #Visualization\n",
    "import warnings\n",
    "warnings.filterwarnings(\"ignore\", category=FutureWarning)"
   ]
  },
  {
   "cell_type": "markdown",
   "id": "e336451d",
   "metadata": {},
   "source": [
    "<div style=\"background-color:#faa6ce; color:#19180F; font-size:20px; font-family:cursive; padding:10px; border: 2px solid #19180F;\"> \n",
    "Reading the dataset\n",
    "</div>"
   ]
  },
  {
   "cell_type": "code",
   "execution_count": null,
   "id": "f60188e2",
   "metadata": {},
   "outputs": [],
   "source": [
    "df = pd.read_csv('insurance.csv')\n",
    "df"
   ]
  },
  {
   "cell_type": "markdown",
   "id": "33b6b4ee",
   "metadata": {},
   "source": [
    "<div style=\"background-color:#faa6ce; color:#19180F; font-size:20px; font-family:cursive; padding:10px; border: 2px solid #19180F;\"> \n",
    "Understand about data\n",
    "</div>"
   ]
  },
  {
   "cell_type": "code",
   "execution_count": null,
   "id": "48f7c755",
   "metadata": {},
   "outputs": [],
   "source": [
    "df.head()"
   ]
  },
  {
   "cell_type": "code",
   "execution_count": null,
   "id": "7155e225",
   "metadata": {},
   "outputs": [],
   "source": [
    "df.tail()"
   ]
  },
  {
   "cell_type": "code",
   "execution_count": null,
   "id": "0e3a9bba",
   "metadata": {},
   "outputs": [],
   "source": [
    "df.sample(7)"
   ]
  },
  {
   "cell_type": "code",
   "execution_count": null,
   "id": "493a1ca9",
   "metadata": {},
   "outputs": [],
   "source": [
    "df.shape"
   ]
  },
  {
   "cell_type": "code",
   "execution_count": null,
   "id": "56a83f44",
   "metadata": {},
   "outputs": [],
   "source": [
    "df.info()"
   ]
  },
  {
   "cell_type": "code",
   "execution_count": null,
   "id": "bfcbfdb6",
   "metadata": {},
   "outputs": [],
   "source": [
    "df.isnull().sum()"
   ]
  },
  {
   "cell_type": "code",
   "execution_count": null,
   "id": "91d5741e",
   "metadata": {},
   "outputs": [],
   "source": [
    "duplicate_data=df[df.duplicated()]"
   ]
  },
  {
   "cell_type": "code",
   "execution_count": null,
   "id": "22a8c9ba",
   "metadata": {},
   "outputs": [],
   "source": [
    "duplicate_data"
   ]
  },
  {
   "cell_type": "code",
   "execution_count": null,
   "id": "4e871485",
   "metadata": {},
   "outputs": [],
   "source": [
    "df=df.drop_duplicates()\n",
    "df"
   ]
  },
  {
   "cell_type": "code",
   "execution_count": null,
   "id": "a115d207",
   "metadata": {},
   "outputs": [],
   "source": [
    "df.describe()"
   ]
  },
  {
   "cell_type": "markdown",
   "id": "3e9bd98f",
   "metadata": {},
   "source": [
    "#### Get the total male and female in the dataset"
   ]
  },
  {
   "cell_type": "code",
   "execution_count": null,
   "id": "73753536",
   "metadata": {},
   "outputs": [],
   "source": [
    "sns.set_style('whitegrid')\n",
    "sns.countplot(x='sex',data=df)"
   ]
  },
  {
   "cell_type": "markdown",
   "id": "5e89142c",
   "metadata": {},
   "source": [
    "#### Get the total no of people across the regions"
   ]
  },
  {
   "cell_type": "code",
   "execution_count": null,
   "id": "53c595ca",
   "metadata": {},
   "outputs": [],
   "source": [
    "plt.figure(figsize=(10,5))\n",
    "plt.style.use('fivethirtyeight')\n",
    "ax=sns.countplot(x='region',data=df,palette='dark',)\n",
    "ax.set_xlabel(xlabel='Location',fontsize=18)\n",
    "ax.set_ylabel(ylabel='Total people in Region',fontsize=18)\n",
    "ax.set_title(label='Region',fontsize=20)\n",
    "plt.show()"
   ]
  },
  {
   "cell_type": "markdown",
   "id": "dee33b04",
   "metadata": {},
   "source": [
    "#### Average Expenses of Male and Female"
   ]
  },
  {
   "cell_type": "code",
   "execution_count": null,
   "id": "a6574142",
   "metadata": {},
   "outputs": [],
   "source": [
    "plt.figure(figsize=(10,5))\n",
    "df.groupby(['sex'])['expenses'].mean().plot.bar()\n",
    "plt.ylabel('Average Expense')\n",
    "plt.title(\"Average Expenses of Male and Female\",fontsize=18)\n",
    "plt.xticks(rotation = 0)\n",
    "plt.show()"
   ]
  },
  {
   "cell_type": "markdown",
   "id": "d4e1d4c8",
   "metadata": {},
   "source": [
    "#### Average Expenses of a smoker and Non-smoker"
   ]
  },
  {
   "cell_type": "code",
   "execution_count": null,
   "id": "f5b9aff4",
   "metadata": {},
   "outputs": [],
   "source": [
    "plt.figure(figsize=(10,5))\n",
    "df.groupby(['smoker'])['expenses'].mean().plot.bar()\n",
    "plt.ylabel('Average Expense')\n",
    "plt.title(\"Average Expenses of a smoker and Non-smoker\",fontsize=18)\n",
    "plt.xticks(rotation = 0)\n",
    "plt.show()"
   ]
  },
  {
   "cell_type": "markdown",
   "id": "ad8ca619",
   "metadata": {},
   "source": [
    "#### Average Expenses of people of different region"
   ]
  },
  {
   "cell_type": "code",
   "execution_count": null,
   "id": "fce6fd31",
   "metadata": {},
   "outputs": [],
   "source": [
    "plt.figure(figsize=(10,5))\n",
    "df.groupby(['region'])['expenses'].mean().plot.bar()\n",
    "plt.ylabel('Average Expense')\n",
    "plt.title(\"Average Expenses of people of different region\",fontsize=18)\n",
    "plt.xticks(rotation = 0)\n",
    "plt.show()"
   ]
  },
  {
   "cell_type": "code",
   "execution_count": null,
   "id": "cb271848",
   "metadata": {},
   "outputs": [],
   "source": [
    "sns.lmplot(x='bmi',y='expenses',data=df,aspect=2,height=6)\n",
    "plt.xlabel('Boby Mass Index$(kg/m^2)$: as Independent variable')\n",
    "plt.ylabel('Insurance Charges: as Dependent variable')\n",
    "plt.title('Charge Vs BMI');"
   ]
  },
  {
   "cell_type": "code",
   "execution_count": null,
   "id": "9d989e3a",
   "metadata": {},
   "outputs": [],
   "source": [
    "sns.lmplot(x='age',y='expenses',data=df,aspect=2,height=6)\n",
    "plt.xlabel('Age: as Independent variable')\n",
    "plt.ylabel('Insurance Charges: as Dependent variable')\n",
    "plt.title('Charge Vs Age');"
   ]
  },
  {
   "cell_type": "code",
   "execution_count": null,
   "id": "f4875f0d",
   "metadata": {},
   "outputs": [],
   "source": [
    "df1 = df[[\"age\",\"bmi\",\"children\",\"expenses\"]]\n",
    "df1"
   ]
  },
  {
   "cell_type": "code",
   "execution_count": null,
   "id": "23f79148",
   "metadata": {},
   "outputs": [],
   "source": [
    "df1.corr()"
   ]
  },
  {
   "cell_type": "code",
   "execution_count": null,
   "id": "e01324ff",
   "metadata": {},
   "outputs": [],
   "source": [
    "# correlation plot\n",
    "corr = df1.corr()\n",
    "sns.heatmap(corr, cmap = 'BuPu', annot= True);"
   ]
  },
  {
   "cell_type": "markdown",
   "id": "15a1c58b",
   "metadata": {},
   "source": [
    "There seems to be good relation between **age** and **bmi** with **expenses**."
   ]
  },
  {
   "cell_type": "code",
   "execution_count": null,
   "id": "ba6f45ac",
   "metadata": {},
   "outputs": [],
   "source": [
    "f = plt.figure(figsize=(14,6))\n",
    "ax = f.add_subplot(121)\n",
    "sns.scatterplot(x='age',y='expenses',data=df,palette='magma',hue='smoker',ax=ax)\n",
    "ax.set_title('Scatter plot of Charges vs age')\n",
    "\n",
    "ax = f.add_subplot(122)\n",
    "sns.scatterplot(x='bmi',y='expenses',data=df,palette='viridis',hue='smoker')\n",
    "ax.set_title('Scatter plot of Charges vs bmi')"
   ]
  },
  {
   "cell_type": "markdown",
   "id": "2feab6de",
   "metadata": {},
   "source": [
    "As can be seen above, the continous columns of Age and Bmi are compared with expenses and it can be found that the smoker expenses are higher in comparison to non smokers."
   ]
  },
  {
   "cell_type": "code",
   "execution_count": null,
   "id": "b1ec339c",
   "metadata": {},
   "outputs": [],
   "source": [
    "sns.lmplot(x='age',y='expenses',data=df,palette='magma',hue='smoker',aspect=2,height=6)\n",
    "ax.set_title('Scatter plot of Charges vs age')"
   ]
  },
  {
   "cell_type": "code",
   "execution_count": null,
   "id": "a086fd61",
   "metadata": {},
   "outputs": [],
   "source": [
    "sns.lmplot(x='bmi',y='expenses',data=df,palette='viridis',hue='smoker',aspect=2,height=6)\n",
    "ax.set_title('Scatter plot of Charges vs bmi')"
   ]
  },
  {
   "cell_type": "markdown",
   "id": "78bf2886",
   "metadata": {},
   "source": [
    "As can be seen above, the continous columns of Age and Bmi are compared with expenses and it can be found that the smoker expenses are higher in comparison to non smokers."
   ]
  },
  {
   "cell_type": "markdown",
   "id": "c3b07113",
   "metadata": {},
   "source": [
    "<div style=\"background-color:#faa6ce; color:#19180F; font-size:20px; font-family:cursive; padding:10px; border: 2px solid #19180F;\"> \n",
    "Feature Engineering: Transform the Categorical features into Labels 👷\n",
    "</div>"
   ]
  },
  {
   "cell_type": "code",
   "execution_count": null,
   "id": "a647a486",
   "metadata": {},
   "outputs": [],
   "source": [
    "# Dummy variable\n",
    "categorical_columns = ['sex','smoker','region']\n",
    "df = pd.get_dummies(data = df,\n",
    "               columns = categorical_columns,\n",
    "                    drop_first = True\n",
    "               )\n"
   ]
  },
  {
   "cell_type": "code",
   "execution_count": null,
   "id": "759ef1b4",
   "metadata": {},
   "outputs": [],
   "source": [
    "df.info()"
   ]
  },
  {
   "cell_type": "code",
   "execution_count": null,
   "id": "7df7f26b",
   "metadata": {},
   "outputs": [],
   "source": [
    "df.head()"
   ]
  },
  {
   "cell_type": "code",
   "execution_count": null,
   "id": "647fab05",
   "metadata": {},
   "outputs": [],
   "source": [
    "df.sex_male = df.sex_male.replace({True: 1, False: 0})\n",
    "df.smoker_yes = df.smoker_yes.replace({True: 1, False: 0})\n",
    "df.region_northwest = df.region_northwest.replace({True: 1, False: 0})\n",
    "df.region_southeast = df.region_southeast.replace({True: 1, False: 0})\n",
    "df.region_southwest = df.region_southwest.replace({True: 1, False: 0})"
   ]
  },
  {
   "cell_type": "code",
   "execution_count": null,
   "id": "5042e998",
   "metadata": {},
   "outputs": [],
   "source": [
    "df"
   ]
  },
  {
   "cell_type": "code",
   "execution_count": null,
   "id": "06b11cd2",
   "metadata": {},
   "outputs": [],
   "source": [
    "df.info()"
   ]
  },
  {
   "cell_type": "code",
   "execution_count": null,
   "id": "284f3cc4",
   "metadata": {},
   "outputs": [],
   "source": [
    "df.describe()"
   ]
  },
  {
   "cell_type": "markdown",
   "id": "985663ef",
   "metadata": {},
   "source": [
    "\n",
    "<div style=\"background-color:#faa6ce; color:#19180F; font-size:20px; font-family:cursive; padding:10px; border: 2px solid #19180F;\"> \n",
    "Feature Scaling: Transform the the continous data (numerical data) <br>onto the same scale of (0,1).\n",
    "</div>"
   ]
  },
  {
   "cell_type": "code",
   "execution_count": null,
   "id": "79dae881",
   "metadata": {},
   "outputs": [],
   "source": [
    "from sklearn import preprocessing\n",
    "scaler = preprocessing.MinMaxScaler()\n",
    "df[['age','bmi']]=scaler.fit_transform(df[['age','bmi']])"
   ]
  },
  {
   "cell_type": "code",
   "execution_count": null,
   "id": "a49ab274",
   "metadata": {},
   "outputs": [],
   "source": [
    "df.head()"
   ]
  },
  {
   "cell_type": "code",
   "execution_count": null,
   "id": "9e1046c6",
   "metadata": {},
   "outputs": [],
   "source": [
    "X=df.drop(columns=['expenses'],axis=1) # collecting only the features."
   ]
  },
  {
   "cell_type": "code",
   "execution_count": null,
   "id": "ac584c20",
   "metadata": {},
   "outputs": [],
   "source": [
    "X"
   ]
  },
  {
   "cell_type": "code",
   "execution_count": null,
   "id": "deeb6101",
   "metadata": {},
   "outputs": [],
   "source": [
    "y=df['expenses'] # collecting Label values\n",
    "y"
   ]
  },
  {
   "cell_type": "markdown",
   "id": "32bc5da7",
   "metadata": {},
   "source": [
    "- **We will use the log transformation of expense column to make the respective column in normal  distribution**"
   ]
  },
  {
   "cell_type": "code",
   "execution_count": null,
   "id": "d3b6898c",
   "metadata": {},
   "outputs": [],
   "source": [
    "y_log=np.log(y)\n",
    "y_log"
   ]
  },
  {
   "cell_type": "code",
   "execution_count": null,
   "id": "d8112716",
   "metadata": {},
   "outputs": [],
   "source": [
    "from scipy.stats import boxcox\n",
    "y_bc,lam, ci= boxcox(df['expenses'],alpha=0.05)\n",
    "f= plt.figure(figsize=(12,4))\n",
    "\n",
    "ax=f.add_subplot(121)\n",
    "sns.distplot((df['expenses']),bins=40,color='r',ax=ax)\n",
    "#ax.set_title('Distribution of insurance charges')\n",
    "\n",
    "ax=f.add_subplot(122)\n",
    "sns.distplot(y_log,bins=40,color='b',ax=ax)\n",
    "#ax.set_title('Distribution of insurance charges in $log$ sacle')\n",
    "#ax.set_xscale('log');"
   ]
  },
  {
   "cell_type": "markdown",
   "id": "1fccb8c2",
   "metadata": {},
   "source": [
    "<div style=\"background-color:#faa6ce; color:#19180F; font-size:20px; font-family:cursive; padding:10px; border: 2px solid #19180F;\"> \n",
    "Splitting the required data into training and test dataset.\n",
    "</div>"
   ]
  },
  {
   "cell_type": "code",
   "execution_count": null,
   "id": "e8542729",
   "metadata": {},
   "outputs": [],
   "source": [
    "from sklearn.model_selection import train_test_split\n",
    "X_train, X_test, y_train, y_test = train_test_split(X,y_log,test_size=0.3,random_state=22)"
   ]
  },
  {
   "cell_type": "code",
   "execution_count": null,
   "id": "ee9c2be2",
   "metadata": {},
   "outputs": [],
   "source": [
    "print(\"X_train.shape=\", X_train.shape)\n",
    "print(\"y_train.shape=\", y_train.shape)\n",
    "print(\"X_test.shape=\", X_test.shape)\n",
    "print(\"y_test.shape=\", y_train.shape)"
   ]
  },
  {
   "cell_type": "markdown",
   "id": "dfe31d86",
   "metadata": {},
   "source": [
    "<div style=\"background-color:#faa6ce; color:#19180F; font-size:20px; font-family:cursive; padding:10px; border: 2px solid #19180F;\"> \n",
    "Apply LinearRegression.\n",
    "</div>"
   ]
  },
  {
   "cell_type": "code",
   "execution_count": null,
   "id": "a025d270",
   "metadata": {},
   "outputs": [],
   "source": [
    "# Scikit Learn module\n",
    "from sklearn.linear_model import LinearRegression\n",
    "\n",
    "\n",
    "lin_reg = LinearRegression()\n",
    "lin_reg.fit(X_train,y_train)\n",
    "\n",
    "y_pred_LR = lin_reg.predict(X_test)\n",
    "\n",
    "#Evaluvation: MSE\n",
    "from sklearn.metrics import mean_squared_error\n",
    "J_mse_sk_LR = mean_squared_error(y_pred_LR, y_test)\n",
    "\n",
    "# R_square\n",
    "R_square_sk_LR = lin_reg.score(X_test,y_test)\n",
    "\n",
    "print('The Mean Square Error(MSE) or J(theta) is: ',J_mse_sk_LR)\n",
    "print('R square obtain for scikit learn library is :',R_square_sk_LR)"
   ]
  },
  {
   "cell_type": "markdown",
   "id": "f3fd4c71",
   "metadata": {},
   "source": [
    "<div style=\"background-color:#faa6ce; color:#19180F; font-size:20px; font-family:cursive; padding:10px; border: 2px solid #19180F;\"> \n",
    "Apply Supeort Vector Machine-Regression.\n",
    "</div>"
   ]
  },
  {
   "cell_type": "code",
   "execution_count": null,
   "id": "8d48d842",
   "metadata": {},
   "outputs": [],
   "source": [
    "# Support Vector Machine's \n",
    "from sklearn.svm import SVR\n",
    "\n",
    "SVM_R = SVR(kernel='rbf')\n",
    "SVM_R.fit(X_train, y_train)\n",
    "\n",
    "y_pred_svm = SVM_R.predict(X_test)\n",
    "\n",
    "#Evaluvation: MSE\n",
    "from sklearn.metrics import mean_squared_error\n",
    "J_mse_sk_svm = mean_squared_error(y_pred_svm, y_test)\n",
    "\n",
    "# R_square\n",
    "R_square_sk_svm = SVM_R.score(X_test,y_test)\n",
    "\n",
    "print('The Mean Square Error(MSE) or J(theta) is: ',J_mse_sk_svm)\n",
    "print('R square obtain for scikit learn library is :',R_square_sk_svm)"
   ]
  },
  {
   "cell_type": "markdown",
   "id": "f5544de5",
   "metadata": {},
   "source": [
    "<div style=\"background-color:#faa6ce; color:#19180F; font-size:20px; font-family:cursive; padding:10px; border: 2px solid #19180F;\"> \n",
    "Apply Decission Tree Regression.\n",
    "</div>"
   ]
  },
  {
   "cell_type": "code",
   "execution_count": null,
   "id": "a13e0efc",
   "metadata": {},
   "outputs": [],
   "source": [
    "# Scikit Learn module\n",
    "from sklearn.tree import DecisionTreeRegressor\n",
    "Dec_Tree_Reg = DecisionTreeRegressor(max_depth=4, min_samples_split=20)\n",
    "Dec_Tree_Reg.fit(X_train, y_train)\n",
    "\n",
    "y_pred = Dec_Tree_Reg.predict(X_test)\n",
    "\n",
    "#Evaluvation: MSE\n",
    "from sklearn.metrics import mean_squared_error\n",
    "J_mse_sk_Dec_Tree_Rege = mean_squared_error(y_pred, y_test)\n",
    "\n",
    "# R_square\n",
    "R_square_sk_Dec_Tree_Rege = Dec_Tree_Reg.score(X_test,y_test)\n",
    "\n",
    "print('The Mean Square Error(MSE) or J(theta) is: ',J_mse_sk_Dec_Tree_Rege)\n",
    "print('R square obtain for scikit learn library is :',R_square_sk_Dec_Tree_Rege)\n"
   ]
  },
  {
   "cell_type": "code",
   "execution_count": null,
   "id": "c8c7640a",
   "metadata": {},
   "outputs": [],
   "source": [
    "R_square = [R_square_sk_LR,R_square_sk_svm,R_square_sk_Dec_Tree_Rege]\n",
    "models = ['Linear Regression', 'Support Vector Machine', 'Decission Tree']"
   ]
  },
  {
   "cell_type": "code",
   "execution_count": null,
   "id": "46b420b6",
   "metadata": {},
   "outputs": [],
   "source": [
    "sns.barplot(x=R_square, y=models, color=\"g\")\n",
    "plt.xlim([-0.1,1.0])\n",
    "plt.xlabel('R-Square')\n",
    "plt.title('R-Square')\n",
    "plt.show()"
   ]
  },
  {
   "cell_type": "markdown",
   "id": "553ccb87",
   "metadata": {},
   "source": [
    "It is found that the R-Square value is highest for the Support Vector Machine (SVM) and Decission Tree compared to all other.\n",
    "\n",
    "Thus SVM and Decission Tree are seems to be the best for this data."
   ]
  },
  {
   "cell_type": "markdown",
   "id": "8553a48a",
   "metadata": {},
   "source": [
    "<div style=\"background-color:#faa6ce; color:#19180F; font-size:20px; font-family:cursive; padding:10px; border: 2px solid #19180F;\"> \n",
    "Save SVM Model by using Pickel.\n",
    "</div>"
   ]
  },
  {
   "cell_type": "code",
   "execution_count": null,
   "id": "b828002f",
   "metadata": {},
   "outputs": [],
   "source": [
    "import pickle"
   ]
  },
  {
   "cell_type": "code",
   "execution_count": null,
   "id": "4780b467",
   "metadata": {},
   "outputs": [],
   "source": [
    "# save the model to disk\n",
    "filename = 'finalized_model.sav'\n",
    "pickle.dump(SVM_R, open(filename, 'wb'))"
   ]
  },
  {
   "cell_type": "code",
   "execution_count": null,
   "id": "905cabc2",
   "metadata": {},
   "outputs": [],
   "source": [
    "# Load the Model back from file\n",
    "with open(filename, 'rb') as file:  \n",
    "    SVM_Model = pickle.load(file)\n",
    "\n",
    "SVM_Model"
   ]
  },
  {
   "cell_type": "code",
   "execution_count": null,
   "id": "bbbe3d70",
   "metadata": {},
   "outputs": [],
   "source": [
    "# Use the Reloaded Model to \n",
    "# Calculate the accuracy score and predict target values\n",
    "\n",
    "# Calculate the Score \n",
    "score = SVM_Model.score(X_test, y_test)  \n",
    "# Print the Score\n",
    "print(\"Test score: {0:.2f} %\".format(100 * score))  \n",
    "\n",
    "# Predict the Labels using the reloaded Model\n",
    "Ypredict = SVM_Model.predict(X_test)  \n",
    "\n",
    "Ypredict"
   ]
  },
  {
   "cell_type": "markdown",
   "id": "e4eb1f3a",
   "metadata": {},
   "source": [
    "<div style=\"background-color:#faa6ce; color:#19180F; font-size:20px; font-family:cursive; padding:10px; border: 2px solid #19180F;\"> \n",
    "<p style=\"text-align: center;\">Happy Learning 😀</p>\n",
    "</div>"
   ]
  }
 ],
 "metadata": {
  "kernelspec": {
   "display_name": "Python 3 (ipykernel)",
   "language": "python",
   "name": "python3"
  },
  "language_info": {
   "codemirror_mode": {
    "name": "ipython",
    "version": 3
   },
   "file_extension": ".py",
   "mimetype": "text/x-python",
   "name": "python",
   "nbconvert_exporter": "python",
   "pygments_lexer": "ipython3",
   "version": "3.11.4"
  }
 },
 "nbformat": 4,
 "nbformat_minor": 5
}

{
 "cells": [
  {
   "cell_type": "markdown",
   "id": "cec60e5b",
   "metadata": {},
   "source": [
    "#  EDUNET FOUNDATION -Class room Notebook\n",
    "# LAB 15- Handling Missing Data. "
   ]
  },
  {
   "cell_type": "markdown",
   "id": "df7b7375",
   "metadata": {},
   "source": [
    "o work with ML code, libraries play a very important role in Python which we will study in details but let see a very brief description of the most important ones :\n",
    "\n",
    "NumPy (Numerical Python) : It is one of the greatest Scientific and Mathematical computing library for Python. Platforms like Keras, Tensorflow have embedded Numpy operations on Tensors. The feature we are concerned with its power and easy to handle and perform operation on Array.\n",
    "\n",
    "Pandas : This package is very useful when it comes to handle data. This makes it very easier to manipulate, aggregate and visualize data.\n",
    "\n",
    "MatplotLib : This library facilitates the task of powerful and very simple visualizations.\n"
   ]
  },
  {
   "cell_type": "code",
   "execution_count": 1,
   "id": "54d67d08",
   "metadata": {},
   "outputs": [
    {
     "name": "stdout",
     "output_type": "stream",
     "text": [
      "Requirement already satisfied: scikit-learn in c:\\users\\b tilak balu\\anaconda3\\lib\\site-packages (1.3.0)\n",
      "Requirement already satisfied: numpy>=1.17.3 in c:\\users\\b tilak balu\\anaconda3\\lib\\site-packages (from scikit-learn) (1.24.3)\n",
      "Requirement already satisfied: scipy>=1.5.0 in c:\\users\\b tilak balu\\anaconda3\\lib\\site-packages (from scikit-learn) (1.10.1)\n",
      "Requirement already satisfied: joblib>=1.1.1 in c:\\users\\b tilak balu\\anaconda3\\lib\\site-packages (from scikit-learn) (1.2.0)\n",
      "Requirement already satisfied: threadpoolctl>=2.0.0 in c:\\users\\b tilak balu\\anaconda3\\lib\\site-packages (from scikit-learn) (2.2.0)\n"
     ]
    }
   ],
   "source": [
    "!pip install scikit-learn"
   ]
  },
  {
   "cell_type": "code",
   "execution_count": 2,
   "id": "ee6692d7",
   "metadata": {},
   "outputs": [
    {
     "name": "stdout",
     "output_type": "stream",
     "text": [
      "Data Head : \n",
      "    Country   Age   Salary Purchased\n",
      "0   France  44.0  72000.0        No\n",
      "1    Spain  27.0  48000.0       Yes\n",
      "2  Germany  30.0  54000.0        No\n",
      "3    Spain  38.0  61000.0        No\n",
      "4  Germany  40.0      NaN       Yes\n"
     ]
    }
   ],
   "source": [
    "# Python code explaining How to\n",
    "# Handle Missing Value in Dataset\n",
    "\n",
    "\"\"\" PART 1\n",
    "\tImporting Libraries \"\"\"\n",
    "\n",
    "import numpy as np\n",
    "import matplotlib.pyplot as plt\n",
    "import pandas as pd\n",
    "\n",
    "\n",
    "\"\"\" PART 2\n",
    "\tImporting Data \"\"\"\n",
    "\n",
    "data_sets = pd.read_csv('Data_for_Missing_Values.csv')\n",
    "\n",
    "print (\"Data Head : \\n\", data_sets.head())\n",
    "\n"
   ]
  },
  {
   "cell_type": "code",
   "execution_count": 3,
   "id": "6373732b",
   "metadata": {},
   "outputs": [
    {
     "name": "stdout",
     "output_type": "stream",
     "text": [
      "\n",
      "\n",
      "Data Describe : \n",
      "              Age        Salary\n",
      "count   9.000000      9.000000\n",
      "mean   38.777778  63777.777778\n",
      "std     7.693793  12265.579662\n",
      "min    27.000000  48000.000000\n",
      "25%    35.000000  54000.000000\n",
      "50%    38.000000  61000.000000\n",
      "75%    44.000000  72000.000000\n",
      "max    50.000000  83000.000000\n"
     ]
    }
   ],
   "source": [
    "print (\"\\n\\nData Describe : \\n\", data_sets.describe())"
   ]
  },
  {
   "cell_type": "code",
   "execution_count": 4,
   "id": "89ad1c73",
   "metadata": {},
   "outputs": [
    {
     "name": "stdout",
     "output_type": "stream",
     "text": [
      "\n",
      "\n",
      "Input : \n",
      " [['France' 44.0 72000.0]\n",
      " ['Spain' 27.0 48000.0]\n",
      " ['Germany' 30.0 54000.0]\n",
      " ['Spain' 38.0 61000.0]\n",
      " ['Germany' 40.0 nan]\n",
      " ['France' 35.0 58000.0]\n",
      " ['Spain' nan 52000.0]\n",
      " ['France' 48.0 79000.0]\n",
      " ['Germany' 50.0 83000.0]\n",
      " ['France' 37.0 67000.0]]\n",
      "\n",
      "\n",
      "Output: \n",
      " ['No' 'Yes' 'No' 'No' 'Yes' 'Yes' 'No' 'Yes' 'No' 'Yes']\n"
     ]
    }
   ],
   "source": [
    "\"\"\" PART 3\n",
    "\tInput and Output Data \"\"\"\n",
    "\n",
    "# All rows but all columns except last\n",
    "X = data_sets.iloc[:, :-1].values\n",
    "\n",
    "# TES\n",
    "# All rows but only last column\n",
    "Y = data_sets.iloc[:, 3].values\n",
    "\t\t\t\t\n",
    "print(\"\\n\\nInput : \\n\", X)\n",
    "print(\"\\n\\nOutput: \\n\", Y)\n"
   ]
  },
  {
   "cell_type": "code",
   "execution_count": null,
   "id": "595c5051",
   "metadata": {},
   "outputs": [],
   "source": [
    "print (\"\\n\\nData Describe : \\n\", data_sets.describe())\n",
    "\n",
    "\"\"\" PART 3\n",
    "\tInput and Output Data \"\"\"\n",
    "\n",
    "# All rows but all columns except last\n",
    "X = data_sets.iloc[:, :-1].values\n",
    "\n",
    "# TES\n",
    "# All rows but only last column\n",
    "Y = data_sets.iloc[:, 3].values\n",
    "\t\t\t\t\n",
    "print(\"\\n\\nInput : \\n\", X)\n",
    "print(\"\\n\\nOutput: \\n\", Y)\n",
    "\n",
    "\n",
    "\"\"\" PART 4\n",
    "\tHandling the missing values \"\"\"\n",
    "\n",
    "# We will use sklearn library >> preprocessing package\n",
    "# Imputer class of that package\n",
    "# from sklearn.preprocessing import SimpleImputer\n",
    "from sklearn.impute import SimpleImputer\n",
    "  \n",
    "# Using Imputer function to replace NaN\n",
    "# values with mean of that parameter value\n",
    "imputer = SimpleImputer(missing_values = \"NaN\",strategy = \"mean\")\n",
    "                    \n",
    "# Fitting the data, function learns the stats\n",
    "imputer = imputer.fit(X[:, 1:3])\n",
    "  \n",
    "# fit_transform() will execute those\n",
    "# stats on the input ie. X[:, 1:3]\n",
    "X[:, 1:3] = imputer.fit_transform(X[:, 1:3])\n",
    "  \n",
    "# filling the missing value with mean\n",
    "print(\"\\n\\nNew Input with Mean Value for NaN : \\n\", X)\n"
   ]
  },
  {
   "cell_type": "markdown",
   "id": "36b13d5e",
   "metadata": {},
   "source": [
    "Output :\n",
    "\n",
    "Data Head : \n",
    "    Country   Age   Salary Purchased\n",
    "0   France  44.0  72000.0        No\n",
    "1    Spain  27.0  48000.0       Yes\n",
    "2  Germany  30.0  54000.0        No\n",
    "3    Spain  38.0  61000.0        No\n",
    "4  Germany  40.0      NaN       Yes\n",
    "\n",
    "\n",
    "Data Describe : \n",
    "              Age        Salary\n",
    "count   9.000000      9.000000\n",
    "mean   38.777778  63777.777778\n",
    "std     7.693793  12265.579662\n",
    "min    27.000000  48000.000000\n",
    "25%    35.000000  54000.000000\n",
    "50%    38.000000  61000.000000\n",
    "75%    44.000000  72000.000000\n",
    "max    50.000000  83000.000000\n",
    "\n",
    "\n",
    "Input : \n",
    " [['France' 44.0 72000.0]\n",
    " ['Spain' 27.0 48000.0]\n",
    " ['Germany' 30.0 54000.0]\n",
    " ['Spain' 38.0 61000.0]\n",
    " ['Germany' 40.0 nan]\n",
    " ['France' 35.0 58000.0]\n",
    " ['Spain' nan 52000.0]\n",
    " ['France' 48.0 79000.0]\n",
    " ['Germany' 50.0 83000.0]\n",
    " ['France' 37.0 67000.0]]\n",
    "\n",
    "\n",
    "Output: \n",
    " ['No' 'Yes' 'No' 'No' 'Yes' 'Yes' 'No' 'Yes' 'No' 'Yes']\n",
    "\n",
    "\n",
    "New Input with Mean Value for NaN : \n",
    " [['France' 44.0 72000.0]\n",
    " ['Spain' 27.0 48000.0]\n",
    " ['Germany' 30.0 54000.0]\n",
    " ['Spain' 38.0 61000.0]\n",
    " ['Germany' 40.0 63777.77777777778]\n",
    " ['France' 35.0 58000.0]\n",
    " ['Spain' 38.77777777777778 52000.0]\n",
    " ['France' 48.0 79000.0]\n",
    " ['Germany' 50.0 83000.0]\n",
    " ['France' 37.0 67000.0]]\n",
    " "
   ]
  },
  {
   "cell_type": "markdown",
   "id": "a6f56d41",
   "metadata": {},
   "source": [
    "CODE EXPLANATION :\n",
    "\n",
    "Part 1 – Importing Libraries : In the above code, imported numpy, pandas and matplotlib but we have used pandas only.\n",
    "PART 2 – Importing Data :\n",
    "Import Data_for_Missing_Values.csv by giving the path to pandas read_csv function. Now “data_sets” is a DataFrame(Two-dimensional tabular data structure with labeled rows and columns).\n",
    "Then print first 5 data-entries of the dataframe using head() function. Number of entries can be changed for e.g. for first 3 values we can use dataframe.head(3). Similarly, last values can also be gotten using tail() function.\n",
    "Then used describe() function. It gives statistical summary of data which includes min, max, percentile (.25, .5, .75), mean and standard deviation for each parameter values.\n",
    "PART 3 – Input and Output Data : We split our dataframe to input and output.\n",
    "PART 4 – Handling the missing values : Using Imputer() function from sklearn.preprocessing package.\n",
    " \n",
    "IMPUTER :\n",
    "Imputer(missing_values=’NaN’, strategy=’mean’, axis=0, verbose=0, copy=True) is a function from Imputer class of sklearn.preprocessing package. It’s role is to transformer parameter value from missing values(NaN) to set strategic value.\n",
    "\n",
    "Syntax : sklearn.preprocessing.Imputer()\n",
    "\n",
    "Parameters : \n",
    "\n",
    "-> missing_values  : integer or “NaN”\n",
    "-> strategy        : What to impute - mean, median or most_frequent along axis\n",
    "-> axis(default=0) : 0 means along column and 1 means along row"
   ]
  }
 ],
 "metadata": {
  "kernelspec": {
   "display_name": "Python 3 (ipykernel)",
   "language": "python",
   "name": "python3"
  },
  "language_info": {
   "codemirror_mode": {
    "name": "ipython",
    "version": 3
   },
   "file_extension": ".py",
   "mimetype": "text/x-python",
   "name": "python",
   "nbconvert_exporter": "python",
   "pygments_lexer": "ipython3",
   "version": "3.11.4"
  },
  "papermill": {
   "default_parameters": {},
   "duration": 1312.632783,
   "end_time": "2023-01-30T23:27:19.398550",
   "environment_variables": {},
   "exception": null,
   "input_path": "__notebook__.ipynb",
   "output_path": "__notebook__.ipynb",
   "parameters": {},
   "start_time": "2023-01-30T23:05:26.765767",
   "version": "2.3.4"
  }
 },
 "nbformat": 4,
 "nbformat_minor": 5
}
